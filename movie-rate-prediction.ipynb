{
 "cells": [
  {
   "cell_type": "markdown",
   "id": "bb7551fd-d515-4f16-85da-00db5bff074b",
   "metadata": {},
   "source": [
    "# Imports"
   ]
  },
  {
   "cell_type": "code",
   "execution_count": 140,
   "id": "04c75a22-00cf-4814-8da3-08dd69e4ea3b",
   "metadata": {
    "execution": {
     "iopub.execute_input": "2022-10-09T23:08:13.892520Z",
     "iopub.status.busy": "2022-10-09T23:08:13.891857Z",
     "iopub.status.idle": "2022-10-09T23:08:13.900568Z",
     "shell.execute_reply": "2022-10-09T23:08:13.899135Z",
     "shell.execute_reply.started": "2022-10-09T23:08:13.892459Z"
    },
    "tags": []
   },
   "outputs": [
    {
     "name": "stderr",
     "output_type": "stream",
     "text": [
      "[nltk_data] Downloading package stopwords to\n",
      "[nltk_data]     /Users/daniildiveev/nltk_data...\n",
      "[nltk_data]   Package stopwords is already up-to-date!\n"
     ]
    }
   ],
   "source": [
    "import json\n",
    "import re\n",
    "from typing import List\n",
    "import numpy as np\n",
    "import nltk\n",
    "nltk.download('stopwords')\n",
    "from nltk.corpus import stopwords\n",
    "from nltk.tokenize import word_tokenize\n",
    "from pymystem3 import Mystem\n",
    "from sklearn.feature_extraction.text import TfidfVectorizer\n",
    "from sklearn.ensemble import RandomForestRegressor\n",
    "from sklearn.model_selection import HalvingGridSearchCV\n",
    "from sklearn.metrics import make_scorer, mean_absolute_error as mae"
   ]
  },
  {
   "cell_type": "markdown",
   "id": "40e5750f-6a6a-4ee8-9b12-370902bb86a3",
   "metadata": {
    "tags": []
   },
   "source": [
    "# Loadind saved data"
   ]
  },
  {
   "cell_type": "markdown",
   "id": "cc423478-f1bc-440a-acda-5df8ade47609",
   "metadata": {},
   "source": [
    "## Скрипт для парсинга, отдельный файл создал для удобства\n",
    "\n",
    "### P.S Жанры так и не смог спарсить, кинопоиск постоянно блочил :(\n",
    "\n",
    "```Python\n",
    "import json \n",
    "from typing import List, Union, Tuple\n",
    "from time import sleep\n",
    "from tqdm import tqdm\n",
    "from selenium import webdriver\n",
    "from selenium.webdriver.common.by import By\n",
    "from webdriver_manager.chrome import ChromeDriverManager\n",
    "from selenium.webdriver.chrome.options import Options\n",
    "from fake_useragent import UserAgent\n",
    "\n",
    "def get_headers() -> 'Options':\n",
    "    user_agent = UserAgent().random\n",
    "    options = Options()\n",
    "    options.add_argument(f\"user-agent={user_agent}\")\n",
    "    options.add_argument(\"window-size=1200,800\")\n",
    "\n",
    "    print(user_agent)\n",
    "\n",
    "    return options\n",
    "\n",
    "\n",
    "def parse_links(url:str, \n",
    "                time_to_load_url:Union[float, int]=3.,\n",
    "                cooldown:Union[float, int]=4.) -> List[str]:\n",
    "    options = get_headers()\n",
    "\n",
    "    with webdriver.Chrome(ChromeDriverManager().install(), chrome_options=options) as driver:\n",
    "        driver.get(url)\n",
    "\n",
    "        sleep(time_to_load_url)\n",
    "        \n",
    "        links = driver.find_elements(By.CLASS_NAME, 'base-movie-main-info_link__YwtP1')\n",
    "        links = [link.get_property(\"href\") for link in links]\n",
    "\n",
    "        sleep(cooldown)\n",
    "\n",
    "    return links\n",
    "\n",
    "def parse_data(urls:List[str], \n",
    "               time_to_load_url:Union[float, int]=3.,\n",
    "               cooldown:Union[float, int]=4.) -> Tuple[List[str], List[float], List[List[str]]]:\n",
    "    descriptions, rates, genres_list = [], [], []\n",
    "    options = get_headers()\n",
    "\n",
    "    GENRES_XPATHS = ('//*[@id=\"__next\"]/div[2]/div[2]/div[1]/div[2]/div/div[3]/div/div/div[2]/div[1]/div/div[3]/div[2]/div',\n",
    "                    '//*[@id=\"__next\"]/div[2]/div[2]/div[2]/div[2]/div/div[3]/div/div/div[2]/div[1]/div/div[3]/div[2]/div',\n",
    "                    '//*[@id=\"__next\"]/div[2]/div[2]/div[1]/div[2]/div/div[3]/div/div/div[2]/div[1]/div/div[4]/div[2]/div')\n",
    "\n",
    "    with webdriver.Chrome(ChromeDriverManager().install(), chrome_options=options) as driver:\n",
    "\n",
    "        for url in tqdm(urls):\n",
    "            driver.get(url)\n",
    "\n",
    "            sleep(time_to_load_url)\n",
    "\n",
    "            desc = driver.find_elements(By.CLASS_NAME, 'styles_paragraph__wEGPz')[0].text\n",
    "            rate = driver.find_elements(By.CLASS_NAME, 'film-rating-value')[0].text\n",
    "\n",
    "            genres = []\n",
    "\n",
    "            for xpath in GENRES_XPATHS:\n",
    "                genres += driver.find_elements(By.XPATH, xpath)\n",
    "\n",
    "            genres = [el.text.repace(',', '').split() for el in genres if '«' not in el.text]\n",
    "            print(genres)\n",
    "\n",
    "            descriptions.append(desc)\n",
    "            genres_list.append(genres)\n",
    "            rates.append(float(rate))\n",
    "\n",
    "            sleep(cooldown)\n",
    "    \n",
    "    return descriptions, rates, genres_list\n",
    "\n",
    "if __name__ == '__main__':\n",
    "    url = \"https://www.kinopoisk.ru/lists/movies/country--1/?ss_subscription=ANY\"\n",
    "\n",
    "    movie_links = parse_links(url)\n",
    "    descriptions, rates, genres = parse_data(movie_links, 2)\n",
    "\n",
    "    data = {\n",
    "        'descriptions' : descriptions,\n",
    "        'rates' : rates, \n",
    "        'genres' : genres\n",
    "    }\n",
    "\n",
    "    with open(\"descriptions_rates_and_genres.json\", \"w\") as f:\n",
    "        json.dump(data, f)\n",
    "```"
   ]
  },
  {
   "cell_type": "code",
   "execution_count": 141,
   "id": "0c936c0d-c733-42e7-8afc-8d78b43a3f6a",
   "metadata": {
    "execution": {
     "iopub.execute_input": "2022-10-09T23:08:17.988296Z",
     "iopub.status.busy": "2022-10-09T23:08:17.987898Z",
     "iopub.status.idle": "2022-10-09T23:08:17.994411Z",
     "shell.execute_reply": "2022-10-09T23:08:17.993028Z",
     "shell.execute_reply.started": "2022-10-09T23:08:17.988251Z"
    },
    "tags": []
   },
   "outputs": [],
   "source": [
    "with open(\"descriptions_and_rates.json\") as f:\n",
    "    data = json.loads(f.read())"
   ]
  },
  {
   "cell_type": "code",
   "execution_count": 142,
   "id": "acb7c1bd-cb95-4833-b90d-ffb06d3a0ed2",
   "metadata": {
    "execution": {
     "iopub.execute_input": "2022-10-09T23:08:18.162566Z",
     "iopub.status.busy": "2022-10-09T23:08:18.162195Z",
     "iopub.status.idle": "2022-10-09T23:08:18.166950Z",
     "shell.execute_reply": "2022-10-09T23:08:18.165913Z",
     "shell.execute_reply.started": "2022-10-09T23:08:18.162533Z"
    },
    "tags": []
   },
   "outputs": [],
   "source": [
    "descriptions, rates = data['descriptions'], data['rates']"
   ]
  },
  {
   "cell_type": "markdown",
   "id": "24c0fc5d-1288-403e-9fbf-81f0c3f6503b",
   "metadata": {},
   "source": [
    "# Text preprocessing"
   ]
  },
  {
   "cell_type": "code",
   "execution_count": 124,
   "id": "17dd5553-6277-4c4f-9d0c-1e1713cd9b8d",
   "metadata": {
    "execution": {
     "iopub.execute_input": "2022-10-09T23:04:51.215838Z",
     "iopub.status.busy": "2022-10-09T23:04:51.215499Z",
     "iopub.status.idle": "2022-10-09T23:04:51.220828Z",
     "shell.execute_reply": "2022-10-09T23:04:51.220081Z",
     "shell.execute_reply.started": "2022-10-09T23:04:51.215809Z"
    },
    "tags": []
   },
   "outputs": [],
   "source": [
    "def normalize_text(strings:List[str]) -> List[str]:\n",
    "    normalized = []\n",
    "    \n",
    "    for string in strings:\n",
    "        string = re.findall(r\"\\w+\", string)\n",
    "        string = \" \".join(string)\n",
    "        string = re.sub(r\"\\s+\", \" \", string)\n",
    "        string = string.lower()\n",
    "        \n",
    "        normalized.append(string)\n",
    "        \n",
    "    return normalized"
   ]
  },
  {
   "cell_type": "code",
   "execution_count": 125,
   "id": "8ea9aaaa-1358-4d08-8ce6-d980cbcf5ade",
   "metadata": {
    "execution": {
     "iopub.execute_input": "2022-10-09T23:04:51.563662Z",
     "iopub.status.busy": "2022-10-09T23:04:51.563198Z",
     "iopub.status.idle": "2022-10-09T23:04:51.570369Z",
     "shell.execute_reply": "2022-10-09T23:04:51.569123Z",
     "shell.execute_reply.started": "2022-10-09T23:04:51.563593Z"
    },
    "tags": []
   },
   "outputs": [],
   "source": [
    "def filter_stopwords(strings:List[str]) -> List[str]:\n",
    "    filtered = []\n",
    "    \n",
    "    for string in strings:\n",
    "        words = string.split()\n",
    "        words = [w for w in words if w not in stopwords.words(\"russian\")]\n",
    "        string = \" \".join(words)\n",
    "        \n",
    "        filtered.append(string)\n",
    "        \n",
    "    return filtered"
   ]
  },
  {
   "cell_type": "code",
   "execution_count": 126,
   "id": "4112e38d-155f-452b-bbe8-93f3fc712664",
   "metadata": {
    "execution": {
     "iopub.execute_input": "2022-10-09T23:04:51.837547Z",
     "iopub.status.busy": "2022-10-09T23:04:51.837225Z",
     "iopub.status.idle": "2022-10-09T23:04:51.850958Z",
     "shell.execute_reply": "2022-10-09T23:04:51.848859Z",
     "shell.execute_reply.started": "2022-10-09T23:04:51.837521Z"
    },
    "tags": []
   },
   "outputs": [],
   "source": [
    "def lemmatize_words(strings:List[str]) -> List[str]:\n",
    "    lemmatized = []\n",
    "    stem = Mystem()\n",
    "    \n",
    "    for string in strings:\n",
    "        lemmas = stem.lemmatize(string)\n",
    "        lemmas[-1] = lemmas[-1].replace(\"\\n\", \"\")\n",
    "        string = ''.join(lemmas)\n",
    "        \n",
    "        lemmatized.append(string)\n",
    "        \n",
    "    return lemmatized"
   ]
  },
  {
   "cell_type": "code",
   "execution_count": 127,
   "id": "394c92d3-f150-4d86-ae6a-85f86af01a32",
   "metadata": {
    "execution": {
     "iopub.execute_input": "2022-10-09T23:04:52.199930Z",
     "iopub.status.busy": "2022-10-09T23:04:52.199344Z",
     "iopub.status.idle": "2022-10-09T23:04:52.205639Z",
     "shell.execute_reply": "2022-10-09T23:04:52.204678Z",
     "shell.execute_reply.started": "2022-10-09T23:04:52.199870Z"
    },
    "tags": []
   },
   "outputs": [],
   "source": [
    "def preprocessing_pipeline(strings:List[str]) -> List[str]:\n",
    "    strings = normalize_text(strings)\n",
    "    strings = filter_stopwords(strings)\n",
    "    strings = lemmatize_words(strings)\n",
    "    \n",
    "    return strings"
   ]
  },
  {
   "cell_type": "code",
   "execution_count": 128,
   "id": "c1c517f7-492d-4149-a6b3-f56ecedd9dcb",
   "metadata": {
    "execution": {
     "iopub.execute_input": "2022-10-09T23:04:52.600946Z",
     "iopub.status.busy": "2022-10-09T23:04:52.600598Z",
     "iopub.status.idle": "2022-10-09T23:04:54.250735Z",
     "shell.execute_reply": "2022-10-09T23:04:54.249392Z",
     "shell.execute_reply.started": "2022-10-09T23:04:52.600919Z"
    },
    "tags": []
   },
   "outputs": [],
   "source": [
    "corpus = preprocessing_pipeline(descriptions)"
   ]
  },
  {
   "cell_type": "markdown",
   "id": "d6434472-6bcf-4829-8ca0-7c435811ce03",
   "metadata": {},
   "source": [
    "# Building model"
   ]
  },
  {
   "cell_type": "code",
   "execution_count": 129,
   "id": "363a4dec-db1f-4c47-a7a1-a29195bf34ae",
   "metadata": {
    "execution": {
     "iopub.execute_input": "2022-10-09T23:04:54.553374Z",
     "iopub.status.busy": "2022-10-09T23:04:54.552919Z",
     "iopub.status.idle": "2022-10-09T23:04:54.573002Z",
     "shell.execute_reply": "2022-10-09T23:04:54.571749Z",
     "shell.execute_reply.started": "2022-10-09T23:04:54.553315Z"
    },
    "tags": []
   },
   "outputs": [],
   "source": [
    "vectorizer = TfidfVectorizer()\n",
    "sparse_corpus = vectorizer.fit_transform(corpus)"
   ]
  },
  {
   "cell_type": "code",
   "execution_count": 130,
   "id": "bef439f3-0a69-4af8-b82e-ccd7f39fb4ec",
   "metadata": {
    "execution": {
     "iopub.execute_input": "2022-10-09T23:04:54.816149Z",
     "iopub.status.busy": "2022-10-09T23:04:54.815605Z",
     "iopub.status.idle": "2022-10-09T23:04:54.822160Z",
     "shell.execute_reply": "2022-10-09T23:04:54.821289Z",
     "shell.execute_reply.started": "2022-10-09T23:04:54.816098Z"
    },
    "tags": []
   },
   "outputs": [],
   "source": [
    "mae_scorer = make_scorer(mae)"
   ]
  },
  {
   "cell_type": "code",
   "execution_count": 131,
   "id": "dc099278-9f4e-45dc-b332-a0a6501ac533",
   "metadata": {
    "execution": {
     "iopub.execute_input": "2022-10-09T23:04:55.065493Z",
     "iopub.status.busy": "2022-10-09T23:04:55.065052Z",
     "iopub.status.idle": "2022-10-09T23:04:55.071395Z",
     "shell.execute_reply": "2022-10-09T23:04:55.070436Z",
     "shell.execute_reply.started": "2022-10-09T23:04:55.065433Z"
    },
    "tags": []
   },
   "outputs": [],
   "source": [
    "forest_parameters = {\n",
    "    \"n_estimators\" : [int(x) for x in np.linspace(10, 50, 5)],\n",
    "    \"max_depth\" : [x for x in range(4, 8)],\n",
    "    \"max_features\" : [\"log2\", \"sqrt\"], \n",
    "    \"bootstrap\" : [True, False]\n",
    "}"
   ]
  },
  {
   "cell_type": "code",
   "execution_count": 132,
   "id": "5359e524-b52b-4c91-aa01-a9a5c868c780",
   "metadata": {
    "execution": {
     "iopub.execute_input": "2022-10-09T23:04:55.450757Z",
     "iopub.status.busy": "2022-10-09T23:04:55.450250Z",
     "iopub.status.idle": "2022-10-09T23:04:55.456385Z",
     "shell.execute_reply": "2022-10-09T23:04:55.454997Z",
     "shell.execute_reply.started": "2022-10-09T23:04:55.450722Z"
    },
    "tags": []
   },
   "outputs": [],
   "source": [
    "forest = RandomForestRegressor()\n",
    "grid_search = HalvingGridSearchCV(forest, forest_parameters, scoring=mae_scorer, cv=4)"
   ]
  },
  {
   "cell_type": "code",
   "execution_count": 133,
   "id": "e99af811-e845-459f-a9e6-75fb3b658f87",
   "metadata": {
    "execution": {
     "iopub.execute_input": "2022-10-09T23:04:55.823024Z",
     "iopub.status.busy": "2022-10-09T23:04:55.822681Z",
     "iopub.status.idle": "2022-10-09T23:05:09.106778Z",
     "shell.execute_reply": "2022-10-09T23:05:09.106085Z",
     "shell.execute_reply.started": "2022-10-09T23:04:55.822970Z"
    },
    "tags": []
   },
   "outputs": [
    {
     "data": {
      "text/html": [
       "<style>#sk-container-id-7 {color: black;background-color: white;}#sk-container-id-7 pre{padding: 0;}#sk-container-id-7 div.sk-toggleable {background-color: white;}#sk-container-id-7 label.sk-toggleable__label {cursor: pointer;display: block;width: 100%;margin-bottom: 0;padding: 0.3em;box-sizing: border-box;text-align: center;}#sk-container-id-7 label.sk-toggleable__label-arrow:before {content: \"▸\";float: left;margin-right: 0.25em;color: #696969;}#sk-container-id-7 label.sk-toggleable__label-arrow:hover:before {color: black;}#sk-container-id-7 div.sk-estimator:hover label.sk-toggleable__label-arrow:before {color: black;}#sk-container-id-7 div.sk-toggleable__content {max-height: 0;max-width: 0;overflow: hidden;text-align: left;background-color: #f0f8ff;}#sk-container-id-7 div.sk-toggleable__content pre {margin: 0.2em;color: black;border-radius: 0.25em;background-color: #f0f8ff;}#sk-container-id-7 input.sk-toggleable__control:checked~div.sk-toggleable__content {max-height: 200px;max-width: 100%;overflow: auto;}#sk-container-id-7 input.sk-toggleable__control:checked~label.sk-toggleable__label-arrow:before {content: \"▾\";}#sk-container-id-7 div.sk-estimator input.sk-toggleable__control:checked~label.sk-toggleable__label {background-color: #d4ebff;}#sk-container-id-7 div.sk-label input.sk-toggleable__control:checked~label.sk-toggleable__label {background-color: #d4ebff;}#sk-container-id-7 input.sk-hidden--visually {border: 0;clip: rect(1px 1px 1px 1px);clip: rect(1px, 1px, 1px, 1px);height: 1px;margin: -1px;overflow: hidden;padding: 0;position: absolute;width: 1px;}#sk-container-id-7 div.sk-estimator {font-family: monospace;background-color: #f0f8ff;border: 1px dotted black;border-radius: 0.25em;box-sizing: border-box;margin-bottom: 0.5em;}#sk-container-id-7 div.sk-estimator:hover {background-color: #d4ebff;}#sk-container-id-7 div.sk-parallel-item::after {content: \"\";width: 100%;border-bottom: 1px solid gray;flex-grow: 1;}#sk-container-id-7 div.sk-label:hover label.sk-toggleable__label {background-color: #d4ebff;}#sk-container-id-7 div.sk-serial::before {content: \"\";position: absolute;border-left: 1px solid gray;box-sizing: border-box;top: 0;bottom: 0;left: 50%;z-index: 0;}#sk-container-id-7 div.sk-serial {display: flex;flex-direction: column;align-items: center;background-color: white;padding-right: 0.2em;padding-left: 0.2em;position: relative;}#sk-container-id-7 div.sk-item {position: relative;z-index: 1;}#sk-container-id-7 div.sk-parallel {display: flex;align-items: stretch;justify-content: center;background-color: white;position: relative;}#sk-container-id-7 div.sk-item::before, #sk-container-id-7 div.sk-parallel-item::before {content: \"\";position: absolute;border-left: 1px solid gray;box-sizing: border-box;top: 0;bottom: 0;left: 50%;z-index: -1;}#sk-container-id-7 div.sk-parallel-item {display: flex;flex-direction: column;z-index: 1;position: relative;background-color: white;}#sk-container-id-7 div.sk-parallel-item:first-child::after {align-self: flex-end;width: 50%;}#sk-container-id-7 div.sk-parallel-item:last-child::after {align-self: flex-start;width: 50%;}#sk-container-id-7 div.sk-parallel-item:only-child::after {width: 0;}#sk-container-id-7 div.sk-dashed-wrapped {border: 1px dashed gray;margin: 0 0.4em 0.5em 0.4em;box-sizing: border-box;padding-bottom: 0.4em;background-color: white;}#sk-container-id-7 div.sk-label label {font-family: monospace;font-weight: bold;display: inline-block;line-height: 1.2em;}#sk-container-id-7 div.sk-label-container {text-align: center;}#sk-container-id-7 div.sk-container {/* jupyter's `normalize.less` sets `[hidden] { display: none; }` but bootstrap.min.css set `[hidden] { display: none !important; }` so we also need the `!important` here to be able to override the default hidden behavior on the sphinx rendered scikit-learn.org. See: https://github.com/scikit-learn/scikit-learn/issues/21755 */display: inline-block !important;position: relative;}#sk-container-id-7 div.sk-text-repr-fallback {display: none;}</style><div id=\"sk-container-id-7\" class=\"sk-top-container\"><div class=\"sk-text-repr-fallback\"><pre>HalvingGridSearchCV(cv=4, estimator=RandomForestRegressor(),\n",
       "                    param_grid={&#x27;bootstrap&#x27;: [True, False],\n",
       "                                &#x27;max_depth&#x27;: [4, 5, 6, 7],\n",
       "                                &#x27;max_features&#x27;: [&#x27;log2&#x27;, &#x27;sqrt&#x27;],\n",
       "                                &#x27;n_estimators&#x27;: [10, 20, 30, 40, 50]},\n",
       "                    scoring=make_scorer(mean_absolute_error))</pre><b>In a Jupyter environment, please rerun this cell to show the HTML representation or trust the notebook. <br />On GitHub, the HTML representation is unable to render, please try loading this page with nbviewer.org.</b></div><div class=\"sk-container\" hidden><div class=\"sk-item sk-dashed-wrapped\"><div class=\"sk-label-container\"><div class=\"sk-label sk-toggleable\"><input class=\"sk-toggleable__control sk-hidden--visually\" id=\"sk-estimator-id-13\" type=\"checkbox\" ><label for=\"sk-estimator-id-13\" class=\"sk-toggleable__label sk-toggleable__label-arrow\">HalvingGridSearchCV</label><div class=\"sk-toggleable__content\"><pre>HalvingGridSearchCV(cv=4, estimator=RandomForestRegressor(),\n",
       "                    param_grid={&#x27;bootstrap&#x27;: [True, False],\n",
       "                                &#x27;max_depth&#x27;: [4, 5, 6, 7],\n",
       "                                &#x27;max_features&#x27;: [&#x27;log2&#x27;, &#x27;sqrt&#x27;],\n",
       "                                &#x27;n_estimators&#x27;: [10, 20, 30, 40, 50]},\n",
       "                    scoring=make_scorer(mean_absolute_error))</pre></div></div></div><div class=\"sk-parallel\"><div class=\"sk-parallel-item\"><div class=\"sk-item\"><div class=\"sk-label-container\"><div class=\"sk-label sk-toggleable\"><input class=\"sk-toggleable__control sk-hidden--visually\" id=\"sk-estimator-id-14\" type=\"checkbox\" ><label for=\"sk-estimator-id-14\" class=\"sk-toggleable__label sk-toggleable__label-arrow\">estimator: RandomForestRegressor</label><div class=\"sk-toggleable__content\"><pre>RandomForestRegressor()</pre></div></div></div><div class=\"sk-serial\"><div class=\"sk-item\"><div class=\"sk-estimator sk-toggleable\"><input class=\"sk-toggleable__control sk-hidden--visually\" id=\"sk-estimator-id-15\" type=\"checkbox\" ><label for=\"sk-estimator-id-15\" class=\"sk-toggleable__label sk-toggleable__label-arrow\">RandomForestRegressor</label><div class=\"sk-toggleable__content\"><pre>RandomForestRegressor()</pre></div></div></div></div></div></div></div></div></div></div>"
      ],
      "text/plain": [
       "HalvingGridSearchCV(cv=4, estimator=RandomForestRegressor(),\n",
       "                    param_grid={'bootstrap': [True, False],\n",
       "                                'max_depth': [4, 5, 6, 7],\n",
       "                                'max_features': ['log2', 'sqrt'],\n",
       "                                'n_estimators': [10, 20, 30, 40, 50]},\n",
       "                    scoring=make_scorer(mean_absolute_error))"
      ]
     },
     "execution_count": 133,
     "metadata": {},
     "output_type": "execute_result"
    }
   ],
   "source": [
    "grid_search.fit(sparse_corpus, rates)"
   ]
  },
  {
   "cell_type": "code",
   "execution_count": 137,
   "id": "6a84f99c-3d3d-4033-b799-8d8fe0425266",
   "metadata": {
    "execution": {
     "iopub.execute_input": "2022-10-09T23:05:59.878853Z",
     "iopub.status.busy": "2022-10-09T23:05:59.878460Z",
     "iopub.status.idle": "2022-10-09T23:05:59.886937Z",
     "shell.execute_reply": "2022-10-09T23:05:59.884689Z",
     "shell.execute_reply.started": "2022-10-09T23:05:59.878818Z"
    },
    "tags": []
   },
   "outputs": [
    {
     "data": {
      "text/plain": [
       "{'bootstrap': True, 'max_depth': 6, 'max_features': 'sqrt', 'n_estimators': 20}"
      ]
     },
     "execution_count": 137,
     "metadata": {},
     "output_type": "execute_result"
    }
   ],
   "source": [
    "grid_search.best_params_"
   ]
  },
  {
   "cell_type": "code",
   "execution_count": 139,
   "id": "fbdbe406-b88a-456c-a4cf-dbdb04a8ff88",
   "metadata": {
    "execution": {
     "iopub.execute_input": "2022-10-09T23:06:33.070358Z",
     "iopub.status.busy": "2022-10-09T23:06:33.069957Z",
     "iopub.status.idle": "2022-10-09T23:06:33.076310Z",
     "shell.execute_reply": "2022-10-09T23:06:33.075121Z",
     "shell.execute_reply.started": "2022-10-09T23:06:33.070325Z"
    },
    "tags": []
   },
   "outputs": [
    {
     "name": "stdout",
     "output_type": "stream",
     "text": [
      "Mean MAE on test folds: 0.5935970161292785\n"
     ]
    }
   ],
   "source": [
    "mean_mae_on_test = np.mean(grid_search.cv_results_['mean_test_score'])\n",
    "print(\"Mean MAE on test folds: %s\" % mean_mae_on_test)"
   ]
  }
 ],
 "metadata": {
  "kernelspec": {
   "display_name": "Python 3 (ipykernel)",
   "language": "python",
   "name": "python3"
  },
  "language_info": {
   "codemirror_mode": {
    "name": "ipython",
    "version": 3
   },
   "file_extension": ".py",
   "mimetype": "text/x-python",
   "name": "python",
   "nbconvert_exporter": "python",
   "pygments_lexer": "ipython3",
   "version": "3.10.7"
  }
 },
 "nbformat": 4,
 "nbformat_minor": 5
}
