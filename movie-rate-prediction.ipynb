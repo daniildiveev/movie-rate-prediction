{
 "cells": [
  {
   "cell_type": "markdown",
   "id": "bb7551fd-d515-4f16-85da-00db5bff074b",
   "metadata": {},
   "source": [
    "# Imports"
   ]
  },
  {
   "cell_type": "code",
   "execution_count": 94,
   "id": "04c75a22-00cf-4814-8da3-08dd69e4ea3b",
   "metadata": {},
   "outputs": [
    {
     "name": "stderr",
     "output_type": "stream",
     "text": [
      "[nltk_data] Downloading package stopwords to /home/diveev/nltk_data...\n",
      "[nltk_data]   Package stopwords is already up-to-date!\n"
     ]
    }
   ],
   "source": [
    "import json\n",
    "import re\n",
    "from typing import List\n",
    "import numpy as np\n",
    "import nltk\n",
    "nltk.download('stopwords')\n",
    "from nltk.corpus import stopwords\n",
    "from nltk.tokenize import word_tokenize\n",
    "from pymystem3 import Mystem\n",
    "from sklearn.feature_extraction.text import TfidfVectorizer\n",
    "from sklearn.model_selection import train_test_split\n",
    "from parsers import *"
   ]
  },
  {
   "cell_type": "markdown",
   "id": "40e5750f-6a6a-4ee8-9b12-370902bb86a3",
   "metadata": {
    "jp-MarkdownHeadingCollapsed": true,
    "tags": []
   },
   "source": [
    "# Loading and saving data"
   ]
  },
  {
   "cell_type": "code",
   "execution_count": 38,
   "id": "54138a46-7da8-48a4-9f89-a1731fa7c48e",
   "metadata": {
    "collapsed": true,
    "jupyter": {
     "outputs_hidden": true
    },
    "tags": []
   },
   "outputs": [
    {
     "ename": "NoSuchWindowException",
     "evalue": "Message: no such window: target window already closed\nfrom unknown error: web view not found\n  (Session info: chrome=106.0.5249.91)\nStacktrace:\n#0 0x56170bded2c3 <unknown>\n#1 0x56170bbf683a <unknown>\n#2 0x56170bbd58e3 <unknown>\n#3 0x56170bc51ebd <unknown>\n#4 0x56170bc65029 <unknown>\n#5 0x56170bc4dd63 <unknown>\n#6 0x56170bc227e3 <unknown>\n#7 0x56170bc23a21 <unknown>\n#8 0x56170be3b18e <unknown>\n#9 0x56170be3e622 <unknown>\n#10 0x56170be21aae <unknown>\n#11 0x56170be3f2a3 <unknown>\n#12 0x56170be15ecf <unknown>\n#13 0x56170be5f588 <unknown>\n#14 0x56170be5f706 <unknown>\n#15 0x56170be798b2 <unknown>\n#16 0x7f166af10e2d <unknown>\n",
     "output_type": "error",
     "traceback": [
      "\u001b[0;31m---------------------------------------------------------------------------\u001b[0m",
      "\u001b[0;31mNoSuchWindowException\u001b[0m                     Traceback (most recent call last)",
      "Input \u001b[0;32mIn [38]\u001b[0m, in \u001b[0;36m<cell line: 3>\u001b[0;34m()\u001b[0m\n\u001b[1;32m      1\u001b[0m url \u001b[38;5;241m=\u001b[39m \u001b[38;5;124m\"\u001b[39m\u001b[38;5;124mhttps://www.kinopoisk.ru/lists/movies/country--1/?ss_subscription=ANY\u001b[39m\u001b[38;5;124m\"\u001b[39m\n\u001b[0;32m----> 3\u001b[0m movie_links \u001b[38;5;241m=\u001b[39m \u001b[43mparse_links\u001b[49m\u001b[43m(\u001b[49m\u001b[43murl\u001b[49m\u001b[43m)\u001b[49m\n\u001b[1;32m      4\u001b[0m descriptions, rates \u001b[38;5;241m=\u001b[39m parse_descriptions_and_rates(movie_links, \u001b[38;5;241m2\u001b[39m)\n",
      "File \u001b[0;32m~/Desktop/movie-rate-prediction/parsers.py:16\u001b[0m, in \u001b[0;36mparse_links\u001b[0;34m(url, time_to_load_url)\u001b[0m\n\u001b[1;32m     12\u001b[0m     driver\u001b[38;5;241m.\u001b[39mget(url)\n\u001b[1;32m     14\u001b[0m     sleep(time_to_load_url)\n\u001b[0;32m---> 16\u001b[0m     links \u001b[38;5;241m=\u001b[39m \u001b[43mdriver\u001b[49m\u001b[38;5;241;43m.\u001b[39;49m\u001b[43mfind_elements\u001b[49m\u001b[43m(\u001b[49m\u001b[43mBy\u001b[49m\u001b[38;5;241;43m.\u001b[39;49m\u001b[43mCLASS_NAME\u001b[49m\u001b[43m,\u001b[49m\u001b[43m \u001b[49m\u001b[38;5;124;43m'\u001b[39;49m\u001b[38;5;124;43mbase-movie-main-info_link__YwtP1\u001b[39;49m\u001b[38;5;124;43m'\u001b[39;49m\u001b[43m)\u001b[49m\n\u001b[1;32m     17\u001b[0m     links \u001b[38;5;241m=\u001b[39m [link\u001b[38;5;241m.\u001b[39mget_property(\u001b[38;5;124m\"\u001b[39m\u001b[38;5;124mhref\u001b[39m\u001b[38;5;124m\"\u001b[39m) \u001b[38;5;28;01mfor\u001b[39;00m link \u001b[38;5;129;01min\u001b[39;00m links]\n\u001b[1;32m     19\u001b[0m \u001b[38;5;28;01mreturn\u001b[39;00m links\n",
      "File \u001b[0;32m~/.conda/envs/movie-rate-prediction/lib/python3.9/site-packages/selenium/webdriver/remote/webdriver.py:889\u001b[0m, in \u001b[0;36mWebDriver.find_elements\u001b[0;34m(self, by, value)\u001b[0m\n\u001b[1;32m    885\u001b[0m     value \u001b[38;5;241m=\u001b[39m \u001b[38;5;124m'\u001b[39m\u001b[38;5;124m[name=\u001b[39m\u001b[38;5;124m\"\u001b[39m\u001b[38;5;132;01m%s\u001b[39;00m\u001b[38;5;124m\"\u001b[39m\u001b[38;5;124m]\u001b[39m\u001b[38;5;124m'\u001b[39m \u001b[38;5;241m%\u001b[39m value\n\u001b[1;32m    887\u001b[0m \u001b[38;5;66;03m# Return empty list if driver returns null\u001b[39;00m\n\u001b[1;32m    888\u001b[0m \u001b[38;5;66;03m# See https://github.com/SeleniumHQ/selenium/issues/4555\u001b[39;00m\n\u001b[0;32m--> 889\u001b[0m \u001b[38;5;28;01mreturn\u001b[39;00m \u001b[38;5;28;43mself\u001b[39;49m\u001b[38;5;241;43m.\u001b[39;49m\u001b[43mexecute\u001b[49m\u001b[43m(\u001b[49m\u001b[43mCommand\u001b[49m\u001b[38;5;241;43m.\u001b[39;49m\u001b[43mFIND_ELEMENTS\u001b[49m\u001b[43m,\u001b[49m\u001b[43m \u001b[49m\u001b[43m{\u001b[49m\n\u001b[1;32m    890\u001b[0m \u001b[43m    \u001b[49m\u001b[38;5;124;43m'\u001b[39;49m\u001b[38;5;124;43musing\u001b[39;49m\u001b[38;5;124;43m'\u001b[39;49m\u001b[43m:\u001b[49m\u001b[43m \u001b[49m\u001b[43mby\u001b[49m\u001b[43m,\u001b[49m\n\u001b[1;32m    891\u001b[0m \u001b[43m    \u001b[49m\u001b[38;5;124;43m'\u001b[39;49m\u001b[38;5;124;43mvalue\u001b[39;49m\u001b[38;5;124;43m'\u001b[39;49m\u001b[43m:\u001b[49m\u001b[43m \u001b[49m\u001b[43mvalue\u001b[49m\u001b[43m}\u001b[49m\u001b[43m)\u001b[49m[\u001b[38;5;124m'\u001b[39m\u001b[38;5;124mvalue\u001b[39m\u001b[38;5;124m'\u001b[39m] \u001b[38;5;129;01mor\u001b[39;00m []\n",
      "File \u001b[0;32m~/.conda/envs/movie-rate-prediction/lib/python3.9/site-packages/selenium/webdriver/remote/webdriver.py:429\u001b[0m, in \u001b[0;36mWebDriver.execute\u001b[0;34m(self, driver_command, params)\u001b[0m\n\u001b[1;32m    427\u001b[0m response \u001b[38;5;241m=\u001b[39m \u001b[38;5;28mself\u001b[39m\u001b[38;5;241m.\u001b[39mcommand_executor\u001b[38;5;241m.\u001b[39mexecute(driver_command, params)\n\u001b[1;32m    428\u001b[0m \u001b[38;5;28;01mif\u001b[39;00m response:\n\u001b[0;32m--> 429\u001b[0m     \u001b[38;5;28;43mself\u001b[39;49m\u001b[38;5;241;43m.\u001b[39;49m\u001b[43merror_handler\u001b[49m\u001b[38;5;241;43m.\u001b[39;49m\u001b[43mcheck_response\u001b[49m\u001b[43m(\u001b[49m\u001b[43mresponse\u001b[49m\u001b[43m)\u001b[49m\n\u001b[1;32m    430\u001b[0m     response[\u001b[38;5;124m'\u001b[39m\u001b[38;5;124mvalue\u001b[39m\u001b[38;5;124m'\u001b[39m] \u001b[38;5;241m=\u001b[39m \u001b[38;5;28mself\u001b[39m\u001b[38;5;241m.\u001b[39m_unwrap_value(\n\u001b[1;32m    431\u001b[0m         response\u001b[38;5;241m.\u001b[39mget(\u001b[38;5;124m'\u001b[39m\u001b[38;5;124mvalue\u001b[39m\u001b[38;5;124m'\u001b[39m, \u001b[38;5;28;01mNone\u001b[39;00m))\n\u001b[1;32m    432\u001b[0m     \u001b[38;5;28;01mreturn\u001b[39;00m response\n",
      "File \u001b[0;32m~/.conda/envs/movie-rate-prediction/lib/python3.9/site-packages/selenium/webdriver/remote/errorhandler.py:243\u001b[0m, in \u001b[0;36mErrorHandler.check_response\u001b[0;34m(self, response)\u001b[0m\n\u001b[1;32m    241\u001b[0m         alert_text \u001b[38;5;241m=\u001b[39m value[\u001b[38;5;124m'\u001b[39m\u001b[38;5;124malert\u001b[39m\u001b[38;5;124m'\u001b[39m]\u001b[38;5;241m.\u001b[39mget(\u001b[38;5;124m'\u001b[39m\u001b[38;5;124mtext\u001b[39m\u001b[38;5;124m'\u001b[39m)\n\u001b[1;32m    242\u001b[0m     \u001b[38;5;28;01mraise\u001b[39;00m exception_class(message, screen, stacktrace, alert_text)  \u001b[38;5;66;03m# type: ignore[call-arg]  # mypy is not smart enough here\u001b[39;00m\n\u001b[0;32m--> 243\u001b[0m \u001b[38;5;28;01mraise\u001b[39;00m exception_class(message, screen, stacktrace)\n",
      "\u001b[0;31mNoSuchWindowException\u001b[0m: Message: no such window: target window already closed\nfrom unknown error: web view not found\n  (Session info: chrome=106.0.5249.91)\nStacktrace:\n#0 0x56170bded2c3 <unknown>\n#1 0x56170bbf683a <unknown>\n#2 0x56170bbd58e3 <unknown>\n#3 0x56170bc51ebd <unknown>\n#4 0x56170bc65029 <unknown>\n#5 0x56170bc4dd63 <unknown>\n#6 0x56170bc227e3 <unknown>\n#7 0x56170bc23a21 <unknown>\n#8 0x56170be3b18e <unknown>\n#9 0x56170be3e622 <unknown>\n#10 0x56170be21aae <unknown>\n#11 0x56170be3f2a3 <unknown>\n#12 0x56170be15ecf <unknown>\n#13 0x56170be5f588 <unknown>\n#14 0x56170be5f706 <unknown>\n#15 0x56170be798b2 <unknown>\n#16 0x7f166af10e2d <unknown>\n"
     ]
    }
   ],
   "source": [
    "url = \"https://www.kinopoisk.ru/lists/movies/country--1/?ss_subscription=ANY\"\n",
    "\n",
    "movie_links = parse_links(url)\n",
    "descriptions, rates = parse_descriptions_and_rates(movie_links, 2)"
   ]
  },
  {
   "cell_type": "code",
   "execution_count": 5,
   "id": "c1c3dd83-0c5e-4290-bf2a-ba34c50a3ab0",
   "metadata": {},
   "outputs": [],
   "source": [
    "data = {\n",
    "    'descriptions' : descriptions,\n",
    "    'rates' : rates\n",
    "}"
   ]
  },
  {
   "cell_type": "code",
   "execution_count": 7,
   "id": "0c936c0d-c733-42e7-8afc-8d78b43a3f6a",
   "metadata": {},
   "outputs": [],
   "source": [
    "with open(\"descriptions_and_rates.json\", \"w\") as f:\n",
    "    json.dump(data, f)"
   ]
  },
  {
   "cell_type": "markdown",
   "id": "24c0fc5d-1288-403e-9fbf-81f0c3f6503b",
   "metadata": {},
   "source": [
    "# Text preprocessing"
   ]
  },
  {
   "cell_type": "code",
   "execution_count": 74,
   "id": "17dd5553-6277-4c4f-9d0c-1e1713cd9b8d",
   "metadata": {
    "tags": []
   },
   "outputs": [],
   "source": [
    "def normalize_text(strings:List[str]) -> List[str]:\n",
    "    normalized = []\n",
    "    \n",
    "    for string in strings:\n",
    "        string = re.findall(r\"\\w+\", string)\n",
    "        string = \" \".join(string)\n",
    "        string = re.sub(r\"\\s+\", \" \", string)\n",
    "        string = string.lower()\n",
    "        \n",
    "        normalized.append(string)\n",
    "        \n",
    "    return normalized"
   ]
  },
  {
   "cell_type": "code",
   "execution_count": 67,
   "id": "8ea9aaaa-1358-4d08-8ce6-d980cbcf5ade",
   "metadata": {},
   "outputs": [],
   "source": [
    "def filter_stopwords(strings:List[str]) -> List[str]:\n",
    "    filtered = []\n",
    "    \n",
    "    for string in strings:\n",
    "        words = string.split()\n",
    "        words = [w for w in words if w not in stopwords.words(\"russian\")]\n",
    "        string = \" \".join(words)\n",
    "        \n",
    "        filtered.append(string)\n",
    "        \n",
    "    return filtered"
   ]
  },
  {
   "cell_type": "code",
   "execution_count": 80,
   "id": "4112e38d-155f-452b-bbe8-93f3fc712664",
   "metadata": {},
   "outputs": [],
   "source": [
    "def lemmatize_words(strings:List[str]) -> List[str]:\n",
    "    lemmatized = []\n",
    "    stem = Mystem()\n",
    "    \n",
    "    for string in strings:\n",
    "        lemmas = stem.lemmatize(string)\n",
    "        lemmas[-1] = lemmas[-1].replace(\"\\n\", \"\")\n",
    "        string = ''.join(lemmas)\n",
    "        \n",
    "        lemmatized.append(string)\n",
    "        \n",
    "    return lemmatized"
   ]
  },
  {
   "cell_type": "code",
   "execution_count": 81,
   "id": "394c92d3-f150-4d86-ae6a-85f86af01a32",
   "metadata": {
    "tags": []
   },
   "outputs": [],
   "source": [
    "def preprocessing_pipeline(strings:List[str]) -> List[str]:\n",
    "    strings = normalize_text(strings)\n",
    "    strings = filter_stopwords(strings)\n",
    "    strings = lemmatize_words(strings)\n",
    "    \n",
    "    return strings"
   ]
  },
  {
   "cell_type": "code",
   "execution_count": 97,
   "id": "c1c517f7-492d-4149-a6b3-f56ecedd9dcb",
   "metadata": {},
   "outputs": [],
   "source": [
    "corpus = preprocessing_pipeline(descriptions)"
   ]
  },
  {
   "cell_type": "code",
   "execution_count": 98,
   "id": "363a4dec-db1f-4c47-a7a1-a29195bf34ae",
   "metadata": {},
   "outputs": [],
   "source": [
    "vectorizer = TfidfVectorizer()\n",
    "sparse_corpus = vectorizer.fit_transform(corpus)"
   ]
  },
  {
   "cell_type": "markdown",
   "id": "d6434472-6bcf-4829-8ca0-7c435811ce03",
   "metadata": {},
   "source": [
    "# Building model"
   ]
  },
  {
   "cell_type": "code",
   "execution_count": 102,
   "id": "ac6705f2-21c4-44fe-9118-32f1404c7350",
   "metadata": {},
   "outputs": [],
   "source": [
    "x_train, x_test, y_train, y_test = train_test_split(sparse_corpus, rates, \n",
    "                                                    random_state=42,\n",
    "                                                    test_size=0.2,\n",
    "                                                    shuffle=True,)"
   ]
  }
 ],
 "metadata": {
  "kernelspec": {
   "display_name": "movie-rate-prediction",
   "language": "python",
   "name": "movie-rate-prediction"
  },
  "language_info": {
   "codemirror_mode": {
    "name": "ipython",
    "version": 3
   },
   "file_extension": ".py",
   "mimetype": "text/x-python",
   "name": "python",
   "nbconvert_exporter": "python",
   "pygments_lexer": "ipython3",
   "version": "3.9.13"
  }
 },
 "nbformat": 4,
 "nbformat_minor": 5
}
